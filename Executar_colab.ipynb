{
  "nbformat": 4,
  "nbformat_minor": 0,
  "metadata": {
    "colab": {
      "provenance": []
    },
    "kernelspec": {
      "name": "python3",
      "display_name": "Python 3"
    },
    "language_info": {
      "name": "python"
    }
  },
  "cells": [
    {
      "cell_type": "code",
      "source": [
        "from google.colab import drive\n",
        "drive.mount('/content/drive')"
      ],
      "metadata": {
        "colab": {
          "base_uri": "https://localhost:8080/"
        },
        "id": "IJGT1KSaors8",
        "outputId": "1ce7ef45-a4f1-4ce8-dd3b-a6b809abf22c"
      },
      "execution_count": 2,
      "outputs": [
        {
          "output_type": "stream",
          "name": "stdout",
          "text": [
            "Mounted at /content/drive\n"
          ]
        }
      ]
    },
    {
      "cell_type": "markdown",
      "source": [
        "# Instrução para utilização.\n",
        "Faça o upload dos arquivos do repositório generation.py, cgann.py o dataset e\n",
        "requirements.txt"
      ],
      "metadata": {
        "id": "EGmMDPMUyZS6"
      }
    },
    {
      "cell_type": "markdown",
      "source": [
        "# Carregue os scripts\n",
        "\n",
        "\n",
        " ![image.png](data:image/png;base64,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)"
      ],
      "metadata": {
        "id": "ChGZZ6F4o-Sy"
      }
    },
    {
      "cell_type": "code",
      "execution_count": 3,
      "metadata": {
        "colab": {
          "base_uri": "https://localhost:8080/"
        },
        "id": "pLtJQgczodk9",
        "outputId": "46919ec0-4d10-4085-c583-dc49fa4934b4"
      },
      "outputs": [
        {
          "output_type": "stream",
          "name": "stdout",
          "text": [
            "Requirement already satisfied: kaleido in /usr/local/lib/python3.10/dist-packages (0.2.1)\n"
          ]
        }
      ],
      "source": [
        "!pip install -U kaleido"
      ]
    },
    {
      "cell_type": "code",
      "source": [
        "from google.colab import files\n",
        "\n",
        "# Faça o upload do arquivo \"requirements.txt\"\n",
        "uploaded = files.upload()\n",
        "\n",
        "# Verifique se o arquivo \"requirements.txt\" foi enviado corretamente\n",
        "if 'requirements.txt' in uploaded:\n",
        "    # Instale as dependências usando o pip\n",
        "    !pip install -r requirements.txt\n",
        "else:\n",
        "    print(\"O arquivo 'requirements.txt' não foi encontrado. Verifique se você fez o upload corretamente.\")\n"
      ],
      "metadata": {
        "id": "tgI_ffjDy_mh"
      },
      "execution_count": null,
      "outputs": []
    },
    {
      "cell_type": "code",
      "source": [
        "input_file_path = \"/content/defenseDroid_permissios_recievers_services.csv\" #caminho do dataset"
      ],
      "metadata": {
        "id": "uQoR2LXJonMd"
      },
      "execution_count": null,
      "outputs": []
    },
    {
      "cell_type": "code",
      "source": [
        "!python generation.py --input_dataset \"$input_file_path\" --data_type float32 --num_samples_class_malware 10000 --num_samples_class_benign 9975 --number_epochs 5000 --classifier random_forest --k_fold 5 --latent_dimension 128"
      ],
      "metadata": {
        "id": "bAz7SUjFpJFr"
      },
      "execution_count": null,
      "outputs": []
    }
  ]
}